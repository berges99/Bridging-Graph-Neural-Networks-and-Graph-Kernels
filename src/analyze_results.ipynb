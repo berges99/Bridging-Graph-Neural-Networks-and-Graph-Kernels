{
  "nbformat": 4,
  "nbformat_minor": 0,
  "metadata": {
    "colab": {
      "name": "analyze_results.ipynb",
      "provenance": [],
      "collapsed_sections": []
    },
    "kernelspec": {
      "name": "python3",
      "display_name": "Python 3"
    }
  },
  "cells": [
    {
      "cell_type": "markdown",
      "metadata": {
        "id": "Uy599T-_P2CM"
      },
      "source": [
        "# K-fold Cross Validation Analysis"
      ]
    },
    {
      "cell_type": "code",
      "metadata": {
        "colab": {
          "base_uri": "https://localhost:8080/"
        },
        "id": "MYGihBKePUDo",
        "outputId": "9d49a169-5925-49cf-aee4-2e7e441a30ad"
      },
      "source": [
        "!unzip results.zip"
      ],
      "execution_count": 1,
      "outputs": [
        {
          "output_type": "stream",
          "text": [
            "Archive:  results.zip\n",
            "   creating: IMDBBINARY/results/\n",
            "  inflating: IMDBBINARY/results/blocks1_layers3_sum_uniform_normalized_results.csv  \n",
            "  inflating: IMDBBINARY/results/blocks3_layers2_jkn_uniform_normalized_results.csv  \n",
            "  inflating: IMDBBINARY/results/blocks2_layers1_jkn_degree_normalized_results.csv  \n",
            "  inflating: IMDBBINARY/results/blocks2_layers2_jkn_degree_normalized_results.csv  \n",
            "  inflating: IMDBBINARY/results/blocks3_layers1_sum_uniform_normalized_results.csv  \n",
            "  inflating: IMDBBINARY/results/blocks1_layers2_sum_degree_normalized_results.csv  \n",
            "  inflating: IMDBBINARY/results/blocks1_layers1_jkn_degree_normalized_results.csv  \n",
            "   creating: IMDBBINARY/results/.ipynb_checkpoints/\n",
            "  inflating: IMDBBINARY/results/blocks2_layers3_jkn_uniform_normalized_results.csv  \n",
            "  inflating: IMDBBINARY/results/blocks2_layers2_sum_degree_normalized_results.csv  \n",
            "  inflating: IMDBBINARY/results/blocks2_layers2_jkn_uniform_normalized_results.csv  \n",
            "  inflating: IMDBBINARY/results/blocks3_layers2_sum_uniform_normalized_results.csv  \n",
            "  inflating: IMDBBINARY/results/blocks3_layers3_sum_uniform_normalized_results.csv  \n",
            "  inflating: IMDBBINARY/results/blocks2_layers3_sum_uniform_normalized_results.csv  \n",
            "  inflating: IMDBBINARY/results/blocks2_layers1_sum_uniform_normalized_results.csv  \n",
            "  inflating: IMDBBINARY/results/blocks3_layers1_jkn_degree_normalized_results.csv  \n",
            "  inflating: IMDBBINARY/results/blocks3_layers2_sum_degree_normalized_results.csv  \n",
            "  inflating: IMDBBINARY/results/blocks3_layers2_jkn_degree_normalized_results.csv  \n",
            "  inflating: IMDBBINARY/results/blocks2_layers1_sum_degree_normalized_results.csv  \n",
            "  inflating: IMDBBINARY/results/blocks1_layers1_sum_degree_normalized_results.csv  \n",
            "  inflating: IMDBBINARY/results/blocks3_layers3_jkn_uniform_normalized_results.csv  \n",
            "  inflating: IMDBBINARY/results/blocks2_layers3_sum_degree_normalized_results.csv  \n",
            "  inflating: IMDBBINARY/results/blocks1_layers1_jkn_uniform_normalized_results.csv  \n",
            "  inflating: IMDBBINARY/results/blocks1_layers3_sum_degree_normalized_results.csv  \n",
            "  inflating: IMDBBINARY/results/blocks1_layers2_jkn_uniform_normalized_results.csv  \n",
            "  inflating: IMDBBINARY/results/blocks1_layers3_jkn_degree_normalized_results.csv  \n",
            "  inflating: IMDBBINARY/results/blocks2_layers3_jkn_degree_normalized_results.csv  \n",
            "  inflating: IMDBBINARY/results/blocks1_layers1_sum_uniform_normalized_results.csv  \n",
            "  inflating: IMDBBINARY/results/blocks2_layers1_jkn_uniform_normalized_results.csv  \n",
            "  inflating: IMDBBINARY/results/blocks1_layers2_sum_uniform_normalized_results.csv  \n",
            "  inflating: IMDBBINARY/results/blocks1_layers3_jkn_uniform_normalized_results.csv  \n",
            "  inflating: IMDBBINARY/results/blocks1_layers2_jkn_degree_normalized_results.csv  \n",
            "  inflating: IMDBBINARY/results/blocks3_layers1_jkn_uniform_normalized_results.csv  \n",
            "  inflating: IMDBBINARY/results/blocks3_layers1_sum_degree_normalized_results.csv  \n",
            "  inflating: IMDBBINARY/results/blocks3_layers3_sum_degree_normalized_results.csv  \n",
            "  inflating: IMDBBINARY/results/blocks3_layers3_jkn_degree_normalized_results.csv  \n",
            "  inflating: IMDBBINARY/results/blocks2_layers2_sum_uniform_normalized_results.csv  \n"
          ],
          "name": "stdout"
        }
      ]
    },
    {
      "cell_type": "markdown",
      "metadata": {
        "id": "x11hh8sEVuB2"
      },
      "source": [
        "Package imports."
      ]
    },
    {
      "cell_type": "code",
      "metadata": {
        "id": "nlWEVH6PVxby"
      },
      "source": [
        "import os\r\n",
        "import pandas as pd\r\n",
        "import seaborn as sns\r\n",
        "import matplotlib.pyplot as plt\r\n",
        "\r\n",
        "%matplotlib inline\r\n",
        "plt.style.use('seaborn-whitegrid')"
      ],
      "execution_count": 37,
      "outputs": []
    },
    {
      "cell_type": "markdown",
      "metadata": {
        "id": "wijNknZWhIly"
      },
      "source": [
        "Read all files and extract the best results for each model."
      ]
    },
    {
      "cell_type": "code",
      "metadata": {
        "colab": {
          "base_uri": "https://localhost:8080/",
          "height": 1000
        },
        "id": "dd91fzsGUmrv",
        "outputId": "5bafd513-ad70-4dc6-a7e9-a7ff773a4a5f"
      },
      "source": [
        "RESULTS_PATH = 'IMDBBINARY/results'\r\n",
        "\r\n",
        "filenames = [f for f in os.listdir(RESULTS_PATH) if f.endswith('_results.csv')]\r\n",
        "\r\n",
        "results = []\r\n",
        "\r\n",
        "for filename in filenames:\r\n",
        "    # Read the experiments and obtain\r\n",
        "    res = pd.read_csv(f'{RESULTS_PATH}/{filename}')\r\n",
        "    max_value = res['accuracy_mean'].max()\r\n",
        "    res = res[res['accuracy_mean'] == max_value].to_dict(orient='records')[0]\r\n",
        "    # Disect the filename to obtain model parameters\r\n",
        "    filename = filename[:-12]\r\n",
        "    res['blocks'] = filename.split('_')[0].lstrip('blocks')\r\n",
        "    res['layers'] = filename.split('_')[1].lstrip('layers')\r\n",
        "    res['readout'] = filename.split('_')[2]\r\n",
        "    res['scaling'] = filename.split('_')[3]\r\n",
        "    results.append(res)\r\n",
        "\r\n",
        "results = pd.DataFrame(results)\r\n",
        "results"
      ],
      "execution_count": 19,
      "outputs": [
        {
          "output_type": "execute_result",
          "data": {
            "text/html": [
              "<div>\n",
              "<style scoped>\n",
              "    .dataframe tbody tr th:only-of-type {\n",
              "        vertical-align: middle;\n",
              "    }\n",
              "\n",
              "    .dataframe tbody tr th {\n",
              "        vertical-align: top;\n",
              "    }\n",
              "\n",
              "    .dataframe thead th {\n",
              "        text-align: right;\n",
              "    }\n",
              "</style>\n",
              "<table border=\"1\" class=\"dataframe\">\n",
              "  <thead>\n",
              "    <tr style=\"text-align: right;\">\n",
              "      <th></th>\n",
              "      <th>C</th>\n",
              "      <th>accuracy_mean</th>\n",
              "      <th>accuracy_std</th>\n",
              "      <th>train_time_mean</th>\n",
              "      <th>score_time_mean</th>\n",
              "      <th>blocks</th>\n",
              "      <th>layers</th>\n",
              "      <th>readout</th>\n",
              "      <th>scaling</th>\n",
              "    </tr>\n",
              "  </thead>\n",
              "  <tbody>\n",
              "    <tr>\n",
              "      <th>0</th>\n",
              "      <td>240.409918</td>\n",
              "      <td>0.735</td>\n",
              "      <td>0.036125</td>\n",
              "      <td>0.138673</td>\n",
              "      <td>0.016163</td>\n",
              "      <td>1</td>\n",
              "      <td>3</td>\n",
              "      <td>jkn</td>\n",
              "      <td>uniform</td>\n",
              "    </tr>\n",
              "    <tr>\n",
              "      <th>1</th>\n",
              "      <td>10000.000000</td>\n",
              "      <td>0.749</td>\n",
              "      <td>0.024678</td>\n",
              "      <td>2.351359</td>\n",
              "      <td>0.017064</td>\n",
              "      <td>3</td>\n",
              "      <td>1</td>\n",
              "      <td>sum</td>\n",
              "      <td>uniform</td>\n",
              "    </tr>\n",
              "    <tr>\n",
              "      <th>2</th>\n",
              "      <td>8030.857221</td>\n",
              "      <td>0.742</td>\n",
              "      <td>0.030265</td>\n",
              "      <td>0.627105</td>\n",
              "      <td>0.017218</td>\n",
              "      <td>3</td>\n",
              "      <td>1</td>\n",
              "      <td>sum</td>\n",
              "      <td>degree</td>\n",
              "    </tr>\n",
              "    <tr>\n",
              "      <th>3</th>\n",
              "      <td>8030.857221</td>\n",
              "      <td>0.742</td>\n",
              "      <td>0.031241</td>\n",
              "      <td>0.868626</td>\n",
              "      <td>0.016464</td>\n",
              "      <td>3</td>\n",
              "      <td>1</td>\n",
              "      <td>jkn</td>\n",
              "      <td>degree</td>\n",
              "    </tr>\n",
              "    <tr>\n",
              "      <th>4</th>\n",
              "      <td>10000.000000</td>\n",
              "      <td>0.742</td>\n",
              "      <td>0.030594</td>\n",
              "      <td>0.662362</td>\n",
              "      <td>0.017689</td>\n",
              "      <td>2</td>\n",
              "      <td>2</td>\n",
              "      <td>jkn</td>\n",
              "      <td>uniform</td>\n",
              "    </tr>\n",
              "    <tr>\n",
              "      <th>5</th>\n",
              "      <td>240.409918</td>\n",
              "      <td>0.735</td>\n",
              "      <td>0.036125</td>\n",
              "      <td>0.139091</td>\n",
              "      <td>0.017037</td>\n",
              "      <td>1</td>\n",
              "      <td>3</td>\n",
              "      <td>jkn</td>\n",
              "      <td>degree</td>\n",
              "    </tr>\n",
              "    <tr>\n",
              "      <th>6</th>\n",
              "      <td>240.409918</td>\n",
              "      <td>0.735</td>\n",
              "      <td>0.036125</td>\n",
              "      <td>0.140716</td>\n",
              "      <td>0.018054</td>\n",
              "      <td>1</td>\n",
              "      <td>2</td>\n",
              "      <td>jkn</td>\n",
              "      <td>degree</td>\n",
              "    </tr>\n",
              "    <tr>\n",
              "      <th>7</th>\n",
              "      <td>896.150502</td>\n",
              "      <td>0.750</td>\n",
              "      <td>0.025690</td>\n",
              "      <td>0.113276</td>\n",
              "      <td>0.016788</td>\n",
              "      <td>3</td>\n",
              "      <td>2</td>\n",
              "      <td>sum</td>\n",
              "      <td>uniform</td>\n",
              "    </tr>\n",
              "    <tr>\n",
              "      <th>8</th>\n",
              "      <td>3340.484984</td>\n",
              "      <td>0.734</td>\n",
              "      <td>0.026153</td>\n",
              "      <td>0.427611</td>\n",
              "      <td>0.016651</td>\n",
              "      <td>2</td>\n",
              "      <td>1</td>\n",
              "      <td>jkn</td>\n",
              "      <td>uniform</td>\n",
              "    </tr>\n",
              "    <tr>\n",
              "      <th>9</th>\n",
              "      <td>8030.857221</td>\n",
              "      <td>0.729</td>\n",
              "      <td>0.032388</td>\n",
              "      <td>0.960851</td>\n",
              "      <td>0.017345</td>\n",
              "      <td>2</td>\n",
              "      <td>1</td>\n",
              "      <td>jkn</td>\n",
              "      <td>degree</td>\n",
              "    </tr>\n",
              "    <tr>\n",
              "      <th>10</th>\n",
              "      <td>464.158883</td>\n",
              "      <td>0.742</td>\n",
              "      <td>0.026000</td>\n",
              "      <td>0.094064</td>\n",
              "      <td>0.018984</td>\n",
              "      <td>2</td>\n",
              "      <td>3</td>\n",
              "      <td>jkn</td>\n",
              "      <td>uniform</td>\n",
              "    </tr>\n",
              "    <tr>\n",
              "      <th>11</th>\n",
              "      <td>240.409918</td>\n",
              "      <td>0.735</td>\n",
              "      <td>0.036125</td>\n",
              "      <td>0.137935</td>\n",
              "      <td>0.016175</td>\n",
              "      <td>1</td>\n",
              "      <td>3</td>\n",
              "      <td>sum</td>\n",
              "      <td>degree</td>\n",
              "    </tr>\n",
              "    <tr>\n",
              "      <th>12</th>\n",
              "      <td>10000.000000</td>\n",
              "      <td>0.748</td>\n",
              "      <td>0.025612</td>\n",
              "      <td>0.605095</td>\n",
              "      <td>0.016095</td>\n",
              "      <td>3</td>\n",
              "      <td>1</td>\n",
              "      <td>jkn</td>\n",
              "      <td>uniform</td>\n",
              "    </tr>\n",
              "    <tr>\n",
              "      <th>13</th>\n",
              "      <td>372.759372</td>\n",
              "      <td>0.743</td>\n",
              "      <td>0.029682</td>\n",
              "      <td>0.083864</td>\n",
              "      <td>0.018220</td>\n",
              "      <td>2</td>\n",
              "      <td>3</td>\n",
              "      <td>sum</td>\n",
              "      <td>uniform</td>\n",
              "    </tr>\n",
              "    <tr>\n",
              "      <th>14</th>\n",
              "      <td>240.409918</td>\n",
              "      <td>0.735</td>\n",
              "      <td>0.036125</td>\n",
              "      <td>0.141394</td>\n",
              "      <td>0.017501</td>\n",
              "      <td>1</td>\n",
              "      <td>1</td>\n",
              "      <td>jkn</td>\n",
              "      <td>uniform</td>\n",
              "    </tr>\n",
              "    <tr>\n",
              "      <th>15</th>\n",
              "      <td>8030.857221</td>\n",
              "      <td>0.743</td>\n",
              "      <td>0.030017</td>\n",
              "      <td>0.593752</td>\n",
              "      <td>0.017312</td>\n",
              "      <td>2</td>\n",
              "      <td>2</td>\n",
              "      <td>sum</td>\n",
              "      <td>uniform</td>\n",
              "    </tr>\n",
              "    <tr>\n",
              "      <th>16</th>\n",
              "      <td>240.409918</td>\n",
              "      <td>0.735</td>\n",
              "      <td>0.036125</td>\n",
              "      <td>0.138629</td>\n",
              "      <td>0.016602</td>\n",
              "      <td>1</td>\n",
              "      <td>2</td>\n",
              "      <td>sum</td>\n",
              "      <td>uniform</td>\n",
              "    </tr>\n",
              "    <tr>\n",
              "      <th>17</th>\n",
              "      <td>10000.000000</td>\n",
              "      <td>0.738</td>\n",
              "      <td>0.036551</td>\n",
              "      <td>0.474678</td>\n",
              "      <td>0.016648</td>\n",
              "      <td>3</td>\n",
              "      <td>3</td>\n",
              "      <td>jkn</td>\n",
              "      <td>degree</td>\n",
              "    </tr>\n",
              "    <tr>\n",
              "      <th>18</th>\n",
              "      <td>240.409918</td>\n",
              "      <td>0.735</td>\n",
              "      <td>0.036125</td>\n",
              "      <td>0.140785</td>\n",
              "      <td>0.017671</td>\n",
              "      <td>1</td>\n",
              "      <td>2</td>\n",
              "      <td>jkn</td>\n",
              "      <td>uniform</td>\n",
              "    </tr>\n",
              "    <tr>\n",
              "      <th>19</th>\n",
              "      <td>4159.562163</td>\n",
              "      <td>0.734</td>\n",
              "      <td>0.036111</td>\n",
              "      <td>0.305582</td>\n",
              "      <td>0.016624</td>\n",
              "      <td>2</td>\n",
              "      <td>3</td>\n",
              "      <td>sum</td>\n",
              "      <td>degree</td>\n",
              "    </tr>\n",
              "    <tr>\n",
              "      <th>20</th>\n",
              "      <td>240.409918</td>\n",
              "      <td>0.735</td>\n",
              "      <td>0.036125</td>\n",
              "      <td>0.141116</td>\n",
              "      <td>0.017828</td>\n",
              "      <td>1</td>\n",
              "      <td>2</td>\n",
              "      <td>sum</td>\n",
              "      <td>degree</td>\n",
              "    </tr>\n",
              "    <tr>\n",
              "      <th>21</th>\n",
              "      <td>8030.857221</td>\n",
              "      <td>0.738</td>\n",
              "      <td>0.028213</td>\n",
              "      <td>0.799033</td>\n",
              "      <td>0.016808</td>\n",
              "      <td>2</td>\n",
              "      <td>2</td>\n",
              "      <td>jkn</td>\n",
              "      <td>degree</td>\n",
              "    </tr>\n",
              "    <tr>\n",
              "      <th>22</th>\n",
              "      <td>155.051578</td>\n",
              "      <td>0.729</td>\n",
              "      <td>0.028443</td>\n",
              "      <td>0.079762</td>\n",
              "      <td>0.016689</td>\n",
              "      <td>2</td>\n",
              "      <td>1</td>\n",
              "      <td>sum</td>\n",
              "      <td>degree</td>\n",
              "    </tr>\n",
              "    <tr>\n",
              "      <th>23</th>\n",
              "      <td>240.409918</td>\n",
              "      <td>0.735</td>\n",
              "      <td>0.036125</td>\n",
              "      <td>0.139316</td>\n",
              "      <td>0.016127</td>\n",
              "      <td>1</td>\n",
              "      <td>1</td>\n",
              "      <td>sum</td>\n",
              "      <td>degree</td>\n",
              "    </tr>\n",
              "    <tr>\n",
              "      <th>24</th>\n",
              "      <td>1389.495494</td>\n",
              "      <td>0.755</td>\n",
              "      <td>0.029411</td>\n",
              "      <td>0.124981</td>\n",
              "      <td>0.016996</td>\n",
              "      <td>3</td>\n",
              "      <td>3</td>\n",
              "      <td>sum</td>\n",
              "      <td>uniform</td>\n",
              "    </tr>\n",
              "    <tr>\n",
              "      <th>25</th>\n",
              "      <td>299.357729</td>\n",
              "      <td>0.739</td>\n",
              "      <td>0.022561</td>\n",
              "      <td>0.076316</td>\n",
              "      <td>0.016627</td>\n",
              "      <td>3</td>\n",
              "      <td>2</td>\n",
              "      <td>sum</td>\n",
              "      <td>degree</td>\n",
              "    </tr>\n",
              "    <tr>\n",
              "      <th>26</th>\n",
              "      <td>1389.495494</td>\n",
              "      <td>0.754</td>\n",
              "      <td>0.028705</td>\n",
              "      <td>0.124865</td>\n",
              "      <td>0.016747</td>\n",
              "      <td>3</td>\n",
              "      <td>3</td>\n",
              "      <td>jkn</td>\n",
              "      <td>uniform</td>\n",
              "    </tr>\n",
              "    <tr>\n",
              "      <th>27</th>\n",
              "      <td>240.409918</td>\n",
              "      <td>0.735</td>\n",
              "      <td>0.036125</td>\n",
              "      <td>0.138677</td>\n",
              "      <td>0.016514</td>\n",
              "      <td>1</td>\n",
              "      <td>1</td>\n",
              "      <td>sum</td>\n",
              "      <td>uniform</td>\n",
              "    </tr>\n",
              "    <tr>\n",
              "      <th>28</th>\n",
              "      <td>240.409918</td>\n",
              "      <td>0.735</td>\n",
              "      <td>0.031064</td>\n",
              "      <td>0.081363</td>\n",
              "      <td>0.016470</td>\n",
              "      <td>2</td>\n",
              "      <td>2</td>\n",
              "      <td>sum</td>\n",
              "      <td>degree</td>\n",
              "    </tr>\n",
              "    <tr>\n",
              "      <th>29</th>\n",
              "      <td>240.409918</td>\n",
              "      <td>0.735</td>\n",
              "      <td>0.036125</td>\n",
              "      <td>0.139857</td>\n",
              "      <td>0.017626</td>\n",
              "      <td>1</td>\n",
              "      <td>1</td>\n",
              "      <td>jkn</td>\n",
              "      <td>degree</td>\n",
              "    </tr>\n",
              "    <tr>\n",
              "      <th>30</th>\n",
              "      <td>6449.466771</td>\n",
              "      <td>0.736</td>\n",
              "      <td>0.033226</td>\n",
              "      <td>0.483769</td>\n",
              "      <td>0.018816</td>\n",
              "      <td>3</td>\n",
              "      <td>2</td>\n",
              "      <td>jkn</td>\n",
              "      <td>degree</td>\n",
              "    </tr>\n",
              "    <tr>\n",
              "      <th>31</th>\n",
              "      <td>577.969288</td>\n",
              "      <td>0.743</td>\n",
              "      <td>0.023685</td>\n",
              "      <td>0.083708</td>\n",
              "      <td>0.017468</td>\n",
              "      <td>3</td>\n",
              "      <td>3</td>\n",
              "      <td>sum</td>\n",
              "      <td>degree</td>\n",
              "    </tr>\n",
              "    <tr>\n",
              "      <th>32</th>\n",
              "      <td>3340.484984</td>\n",
              "      <td>0.734</td>\n",
              "      <td>0.026153</td>\n",
              "      <td>0.417150</td>\n",
              "      <td>0.016203</td>\n",
              "      <td>2</td>\n",
              "      <td>1</td>\n",
              "      <td>sum</td>\n",
              "      <td>uniform</td>\n",
              "    </tr>\n",
              "    <tr>\n",
              "      <th>33</th>\n",
              "      <td>240.409918</td>\n",
              "      <td>0.735</td>\n",
              "      <td>0.036125</td>\n",
              "      <td>0.139340</td>\n",
              "      <td>0.017376</td>\n",
              "      <td>1</td>\n",
              "      <td>3</td>\n",
              "      <td>sum</td>\n",
              "      <td>uniform</td>\n",
              "    </tr>\n",
              "    <tr>\n",
              "      <th>34</th>\n",
              "      <td>10000.000000</td>\n",
              "      <td>0.736</td>\n",
              "      <td>0.033526</td>\n",
              "      <td>0.708711</td>\n",
              "      <td>0.016741</td>\n",
              "      <td>2</td>\n",
              "      <td>3</td>\n",
              "      <td>jkn</td>\n",
              "      <td>degree</td>\n",
              "    </tr>\n",
              "    <tr>\n",
              "      <th>35</th>\n",
              "      <td>896.150502</td>\n",
              "      <td>0.750</td>\n",
              "      <td>0.025690</td>\n",
              "      <td>0.111390</td>\n",
              "      <td>0.016242</td>\n",
              "      <td>3</td>\n",
              "      <td>2</td>\n",
              "      <td>jkn</td>\n",
              "      <td>uniform</td>\n",
              "    </tr>\n",
              "  </tbody>\n",
              "</table>\n",
              "</div>"
            ],
            "text/plain": [
              "               C  accuracy_mean  accuracy_std  ...  layers  readout  scaling\n",
              "0     240.409918          0.735      0.036125  ...       3      jkn  uniform\n",
              "1   10000.000000          0.749      0.024678  ...       1      sum  uniform\n",
              "2    8030.857221          0.742      0.030265  ...       1      sum   degree\n",
              "3    8030.857221          0.742      0.031241  ...       1      jkn   degree\n",
              "4   10000.000000          0.742      0.030594  ...       2      jkn  uniform\n",
              "5     240.409918          0.735      0.036125  ...       3      jkn   degree\n",
              "6     240.409918          0.735      0.036125  ...       2      jkn   degree\n",
              "7     896.150502          0.750      0.025690  ...       2      sum  uniform\n",
              "8    3340.484984          0.734      0.026153  ...       1      jkn  uniform\n",
              "9    8030.857221          0.729      0.032388  ...       1      jkn   degree\n",
              "10    464.158883          0.742      0.026000  ...       3      jkn  uniform\n",
              "11    240.409918          0.735      0.036125  ...       3      sum   degree\n",
              "12  10000.000000          0.748      0.025612  ...       1      jkn  uniform\n",
              "13    372.759372          0.743      0.029682  ...       3      sum  uniform\n",
              "14    240.409918          0.735      0.036125  ...       1      jkn  uniform\n",
              "15   8030.857221          0.743      0.030017  ...       2      sum  uniform\n",
              "16    240.409918          0.735      0.036125  ...       2      sum  uniform\n",
              "17  10000.000000          0.738      0.036551  ...       3      jkn   degree\n",
              "18    240.409918          0.735      0.036125  ...       2      jkn  uniform\n",
              "19   4159.562163          0.734      0.036111  ...       3      sum   degree\n",
              "20    240.409918          0.735      0.036125  ...       2      sum   degree\n",
              "21   8030.857221          0.738      0.028213  ...       2      jkn   degree\n",
              "22    155.051578          0.729      0.028443  ...       1      sum   degree\n",
              "23    240.409918          0.735      0.036125  ...       1      sum   degree\n",
              "24   1389.495494          0.755      0.029411  ...       3      sum  uniform\n",
              "25    299.357729          0.739      0.022561  ...       2      sum   degree\n",
              "26   1389.495494          0.754      0.028705  ...       3      jkn  uniform\n",
              "27    240.409918          0.735      0.036125  ...       1      sum  uniform\n",
              "28    240.409918          0.735      0.031064  ...       2      sum   degree\n",
              "29    240.409918          0.735      0.036125  ...       1      jkn   degree\n",
              "30   6449.466771          0.736      0.033226  ...       2      jkn   degree\n",
              "31    577.969288          0.743      0.023685  ...       3      sum   degree\n",
              "32   3340.484984          0.734      0.026153  ...       1      sum  uniform\n",
              "33    240.409918          0.735      0.036125  ...       3      sum  uniform\n",
              "34  10000.000000          0.736      0.033526  ...       3      jkn   degree\n",
              "35    896.150502          0.750      0.025690  ...       2      jkn  uniform\n",
              "\n",
              "[36 rows x 9 columns]"
            ]
          },
          "metadata": {
            "tags": []
          },
          "execution_count": 19
        }
      ]
    },
    {
      "cell_type": "markdown",
      "metadata": {
        "id": "Vln6J5GPaYih"
      },
      "source": [
        "Best obtained results:"
      ]
    },
    {
      "cell_type": "code",
      "metadata": {
        "colab": {
          "base_uri": "https://localhost:8080/",
          "height": 80
        },
        "id": "cfBNezFNWSzs",
        "outputId": "3c47ab17-82e5-412f-d5e0-0e0067340300"
      },
      "source": [
        "# Max mean accuracy\r\n",
        "max_mean_score = results['accuracy_mean'].max()\r\n",
        "\r\n",
        "display(results[results['accuracy_mean'] == max_mean_score].reset_index(drop=True))"
      ],
      "execution_count": 17,
      "outputs": [
        {
          "output_type": "display_data",
          "data": {
            "text/html": [
              "<div>\n",
              "<style scoped>\n",
              "    .dataframe tbody tr th:only-of-type {\n",
              "        vertical-align: middle;\n",
              "    }\n",
              "\n",
              "    .dataframe tbody tr th {\n",
              "        vertical-align: top;\n",
              "    }\n",
              "\n",
              "    .dataframe thead th {\n",
              "        text-align: right;\n",
              "    }\n",
              "</style>\n",
              "<table border=\"1\" class=\"dataframe\">\n",
              "  <thead>\n",
              "    <tr style=\"text-align: right;\">\n",
              "      <th></th>\n",
              "      <th>C</th>\n",
              "      <th>accuracy_mean</th>\n",
              "      <th>accuracy_std</th>\n",
              "      <th>train_time_mean</th>\n",
              "      <th>score_time_mean</th>\n",
              "      <th>blocks</th>\n",
              "      <th>layers</th>\n",
              "      <th>readout</th>\n",
              "      <th>scaling</th>\n",
              "    </tr>\n",
              "  </thead>\n",
              "  <tbody>\n",
              "    <tr>\n",
              "      <th>0</th>\n",
              "      <td>1389.495494</td>\n",
              "      <td>0.755</td>\n",
              "      <td>0.029411</td>\n",
              "      <td>0.124981</td>\n",
              "      <td>0.016996</td>\n",
              "      <td>3</td>\n",
              "      <td>3</td>\n",
              "      <td>sum</td>\n",
              "      <td>uniform</td>\n",
              "    </tr>\n",
              "  </tbody>\n",
              "</table>\n",
              "</div>"
            ],
            "text/plain": [
              "             C  accuracy_mean  accuracy_std  ...  layers  readout  scaling\n",
              "0  1389.495494          0.755      0.029411  ...       3      sum  uniform\n",
              "\n",
              "[1 rows x 9 columns]"
            ]
          },
          "metadata": {
            "tags": []
          }
        }
      ]
    },
    {
      "cell_type": "markdown",
      "metadata": {
        "id": "TkJAZdRMfbfg"
      },
      "source": [
        "Result analysis:"
      ]
    },
    {
      "cell_type": "code",
      "metadata": {
        "colab": {
          "base_uri": "https://localhost:8080/",
          "height": 402
        },
        "id": "UbSEL2ovacii",
        "outputId": "f1644b3f-5034-4331-9f2c-8e38e07c17d5"
      },
      "source": [
        "# Num blocks vs accuracy\r\n",
        "sns.catplot(x='blocks', y='accuracy_mean', data=results, order=['1', '2', '3'], kind='box')"
      ],
      "execution_count": 40,
      "outputs": [
        {
          "output_type": "execute_result",
          "data": {
            "text/plain": [
              "<seaborn.axisgrid.FacetGrid at 0x7ff446c09f28>"
            ]
          },
          "metadata": {
            "tags": []
          },
          "execution_count": 40
        },
        {
          "output_type": "display_data",
          "data": {
            "image/png": "[encoded data removed]",
            "text/plain": [
              "<Figure size 360x360 with 1 Axes>"
            ]
          },
          "metadata": {
            "tags": []
          }
        }
      ]
    },
    {
      "cell_type": "code",
      "metadata": {
        "colab": {
          "base_uri": "https://localhost:8080/",
          "height": 402
        },
        "id": "SVaO8Cspg-gK",
        "outputId": "9a64cf2d-ea46-4048-e5f4-f28bbb6ea5b0"
      },
      "source": [
        "# Num blocks vs accuracy\r\n",
        "sns.catplot(x='layers', y='accuracy_mean', data=results, order=['1', '2', '3'], kind='box')"
      ],
      "execution_count": 44,
      "outputs": [
        {
          "output_type": "execute_result",
          "data": {
            "text/plain": [
              "<seaborn.axisgrid.FacetGrid at 0x7ff4472c6710>"
            ]
          },
          "metadata": {
            "tags": []
          },
          "execution_count": 44
        },
        {
          "output_type": "display_data",
          "data": {
            "image/png": "[encoded data removed]",
            "text/plain": [
              "<Figure size 360x360 with 1 Axes>"
            ]
          },
          "metadata": {
            "tags": []
          }
        }
      ]
    },
    {
      "cell_type": "code",
      "metadata": {
        "colab": {
          "base_uri": "https://localhost:8080/",
          "height": 402
        },
        "id": "soNcYe8Aekvj",
        "outputId": "ac61311f-f3a8-4391-8fed-a7d98d34662b"
      },
      "source": [
        "# Scaling factor vs accuracy\r\n",
        "sns.catplot(x='scaling', y='accuracy_mean', data=results, kind='box')"
      ],
      "execution_count": 42,
      "outputs": [
        {
          "output_type": "execute_result",
          "data": {
            "text/plain": [
              "<seaborn.axisgrid.FacetGrid at 0x7ff446a09080>"
            ]
          },
          "metadata": {
            "tags": []
          },
          "execution_count": 42
        },
        {
          "output_type": "display_data",
          "data": {
            "image/png": "[encoded data removed]",
            "text/plain": [
              "<Figure size 360x360 with 1 Axes>"
            ]
          },
          "metadata": {
            "tags": []
          }
        }
      ]
    },
    {
      "cell_type": "code",
      "metadata": {
        "colab": {
          "base_uri": "https://localhost:8080/",
          "height": 402
        },
        "id": "RDAAJxIOgow3",
        "outputId": "eb23484a-0b74-4d01-903b-f0900a58ad3f"
      },
      "source": [
        "# Readout operation vs accuracy\r\n",
        "sns.catplot(x='readout', y='accuracy_mean', data=results, kind='box')"
      ],
      "execution_count": 43,
      "outputs": [
        {
          "output_type": "execute_result",
          "data": {
            "text/plain": [
              "<seaborn.axisgrid.FacetGrid at 0x7ff446b51630>"
            ]
          },
          "metadata": {
            "tags": []
          },
          "execution_count": 43
        },
        {
          "output_type": "display_data",
          "data": {
            "image/png": "[encoded data removed]",
            "text/plain": [
              "<Figure size 360x360 with 1 Axes>"
            ]
          },
          "metadata": {
            "tags": []
          }
        }
      ]
    },
    {
      "cell_type": "code",
      "metadata": {
        "id": "9dqz3gTqg6JT"
      },
      "source": [
        ""
      ],
      "execution_count": null,
      "outputs": []
    }
  ]
}